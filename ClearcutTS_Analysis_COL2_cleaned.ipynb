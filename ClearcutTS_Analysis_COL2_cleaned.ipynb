{
 "cells": [
  {
   "cell_type": "markdown",
   "id": "c134e9cd",
   "metadata": {},
   "source": [
    "\n",
    "<h1><center>Trends in Forest Recovery After Stand Replacing Disturbance: A Spatiotemporal Evaluation of Productivity in Southeastern Pine Forests</center></h1>\n",
    "\n",
    "<center> Google Earth Engine Python API Processing Script <center>\n",
    "\n",
    "<h4><center> Daniel J. Putnam </center></h4>"
   ]
  },
  {
   "cell_type": "markdown",
   "id": "73021364",
   "metadata": {},
   "source": [
    "## Analysis Preperation"
   ]
  },
  {
   "cell_type": "markdown",
   "id": "cc87dce3",
   "metadata": {},
   "source": [
    "### _Libraries_"
   ]
  },
  {
   "cell_type": "code",
   "execution_count": null,
   "id": "d7a09c62",
   "metadata": {},
   "outputs": [],
   "source": [
    "import geemap\n",
    "import ee\n",
    "import folium\n",
    "import pandas as pd\n",
    "import numpy as np\n",
    "import matplotlib.pyplot as plt\n",
    "from IPython.display import Image\n",
    "from datetime import datetime\n",
    "%matplotlib inline\n",
    "import scipy as sp\n",
    "import scipy.signal as scisig\n",
    "ee.Initialize()"
   ]
  },
  {
   "cell_type": "code",
   "execution_count": null,
   "id": "ce85ebe2",
   "metadata": {},
   "outputs": [],
   "source": [
    "## used for google earth engine API authentication if token expires\n",
    "#ee.Authenticate(auth_mode='paste')\n",
    "#ee.Authenticate()"
   ]
  },
  {
   "cell_type": "markdown",
   "id": "2b1cdbf3",
   "metadata": {},
   "source": [
    "### _Imports_"
   ]
  },
  {
   "cell_type": "code",
   "execution_count": null,
   "id": "25606093",
   "metadata": {},
   "outputs": [],
   "source": [
    "LS5 = ee.ImageCollection(\"LANDSAT/LT05/C02/T1_L2\") # landsat 5\n",
    "LS7 = ee.ImageCollection(\"LANDSAT/LE07/C02/T1_L2\") # landsat 7\n",
    "LS8 = ee.ImageCollection(\"LANDSAT/LC08/C02/T1_L2\") # landsat 8\n",
    "LCMS = ee.ImageCollection(\"USFS/GTAC/LCMS/v2021-7\") # landscape Change Monitoring System\n",
    "NLCD_col = ee.ImageCollection(\"USGS/NLCD_RELEASES/2019_REL/NLCD\") # National Landcover Database\n",
    "loblolly = ee.FeatureCollection(\"users/dputnam21/us_eco_l3_NEW\") # manually selected ecoregions for study area"
   ]
  },
  {
   "cell_type": "markdown",
   "id": "2e295bb3",
   "metadata": {},
   "source": [
    "### _Priliminary set-up_"
   ]
  },
  {
   "cell_type": "code",
   "execution_count": null,
   "id": "dcc39449",
   "metadata": {},
   "outputs": [],
   "source": [
    "# Creating sample date range for disturbances\n",
    "startingD = ee.Date.fromYMD(1989,1,1)\n",
    "endingD = ee.Date.fromYMD(2011,12,31)"
   ]
  },
  {
   "cell_type": "markdown",
   "id": "afed0f26",
   "metadata": {},
   "source": [
    "### _Landsat Preprocessing_"
   ]
  },
  {
   "cell_type": "code",
   "execution_count": null,
   "id": "a6658501",
   "metadata": {},
   "outputs": [],
   "source": [
    "# Cloud masking based on the QA band : code adapted from Landsat example in data catalog in GEE\n",
    "def LScloudMask(image):\n",
    "  qa = image.select('QA_PIXEL')\n",
    "    # removing cloud pixels if confiance is high, cloud shadow, snow\n",
    "  cloud = qa.bitwiseAnd(1 << 3).And(qa.bitwiseAnd(1 << 9)) \\\n",
    "            .Or(qa.bitwiseAnd(1 << 4)) \\\n",
    "            .Or(qa.bitwiseAnd(1 << 5))\n",
    "  return image.updateMask(cloud.Not())\n",
    "\n",
    "## A function that applies scaling factors and offsets : code adapted from Landsat example in data catalog in GEE\n",
    "def applyScaleFactors(image):\n",
    "  opticalBands = image.select(ee.List.sequence(0,10)).multiply(0.0000275).add(-0.2)\n",
    "  return image.addBands(opticalBands, None, True)\n",
    "\n",
    "# adding the cloud mask per generation\n",
    "LS5 = LS5.map(LScloudMask)\n",
    "LS7 = LS7.map(LScloudMask)\n",
    "LS8 = LS8.map(LScloudMask)\n",
    "\n",
    "# applying scaling factors\n",
    "LS5 = LS5.map(applyScaleFactors)\n",
    "LS7 = LS7.map(applyScaleFactors)\n",
    "LS8 = LS8.map(applyScaleFactors)\n",
    "\n",
    "# Landsat 5/7 & 8 differ in their band labeling, bands need to be renamed them to\n",
    "# match each other before merging collections    \n",
    "LS8BandNames = ee.List(['SR_B4','SR_B3','SR_B5','SR_B6','SR_B7','QA_PIXEL'])\n",
    "NewBandNames = ee.List(['SR_B3','SR_B2','SR_B4','SR_B5','SR_B7','QA_PIXEL'])\n",
    "LS8 = LS8.select(LS8BandNames,NewBandNames)\n",
    "\n",
    "# merging the Landsat 5 and 7 collections\n",
    "LS_stack = LS5.merge(LS8)\n",
    "LS_stack = LS_stack.merge(LS7)\n",
    "\n",
    "# data reduction on the image stack\n",
    "LS_stack = LS_stack.filterBounds(loblolly)"
   ]
  },
  {
   "cell_type": "code",
   "execution_count": null,
   "id": "b5479171",
   "metadata": {},
   "outputs": [],
   "source": [
    "# Adding a function to calculate and add an NBR band for a single image.\n",
    "def addNBR(image):\n",
    "  nbr = image.normalizedDifference(['SR_B4', 'SR_B7']).rename('NBR')\n",
    "  return image.addBands(nbr)\n",
    "\n",
    "# Adding tNBR to the filtered combined Landsat collection\n",
    "LS_stack_wVI = LS_stack.map(addNBR)"
   ]
  },
  {
   "cell_type": "markdown",
   "id": "2bb35ef7",
   "metadata": {},
   "source": [
    "---"
   ]
  },
  {
   "cell_type": "markdown",
   "id": "ecdf60c8",
   "metadata": {},
   "source": [
    "## Stand Identification Method"
   ]
  },
  {
   "cell_type": "markdown",
   "id": "701417ad",
   "metadata": {},
   "source": [
    "### _Landcover/Landuse Mask_"
   ]
  },
  {
   "cell_type": "code",
   "execution_count": null,
   "id": "f1a7ff3e",
   "metadata": {},
   "outputs": [],
   "source": [
    "# New NLCD/LCMS method\n",
    "# retrieve NLCD for each year\n",
    "NLCD_2001 = NLCD_col.filter(ee.Filter.eq('system:index', '2001')).first().select(\"landcover\")\n",
    "NLCD_2004 = NLCD_col.filter(ee.Filter.eq('system:index', '2004')).first().select(\"landcover\")\n",
    "NLCD_2006 = NLCD_col.filter(ee.Filter.eq('system:index', '2006')).first().select(\"landcover\")\n",
    "NLCD_2008 = NLCD_col.filter(ee.Filter.eq('system:index', '2008')).first().select(\"landcover\")\n",
    "NLCD_2011 = NLCD_col.filter(ee.Filter.eq('system:index', '2011')).first().select(\"landcover\")\n",
    "NLCD_2013 = NLCD_col.filter(ee.Filter.eq('system:index', '2013')).first().select(\"landcover\")\n",
    "NLCD_2016 = NLCD_col.filter(ee.Filter.eq('system:index', '2016')).first().select(\"landcover\")\n",
    "NLCD_2019 = NLCD_col.filter(ee.Filter.eq('system:index', '2019')).first().select(\"landcover\")\n",
    "\n",
    "# combine NLCD to image collection\n",
    "NLCDlandcover_col = ee.ImageCollection( \\\n",
    "                    ee.List([NLCD_2001,NLCD_2004,NLCD_2006,NLCD_2008, \\\n",
    "                             NLCD_2011,NLCD_2013,NLCD_2016,NLCD_2019]))\n",
    "\n",
    "# Function to remap NLCD classes of interest for conditional layer\n",
    "def remapNLCD(image):\n",
    "    image = ee.Image(image)\n",
    "    image = image.updateMask(ee.Image.constant(42).Or(ee.Image.constant(52)))\n",
    "    image = image.remap(ee.List([42,52]),ee.List([10,1]),defaultValue = None)\n",
    "    return image\n",
    "\n",
    "# Layer containing the summed values of pixels across the collection after remapping\n",
    "NLCDclassSum = NLCDlandcover_col.map(remapNLCD).reduce(ee.Reducer.sum())\n",
    "NLCDMask = NLCDclassSum.remap(ee.List([62,71,80]),ee.List([1,1,1]), defaultValue = None)"
   ]
  },
  {
   "cell_type": "code",
   "execution_count": null,
   "id": "23ef57ed",
   "metadata": {},
   "outputs": [],
   "source": [
    "# retrieve LCMS landuse classification\n",
    "LCMSlanduseCol = LCMS.select(\"Land_Use\")\n",
    "\n",
    "# A function to select only forest landuse class\n",
    "def remapLCMS(image):\n",
    "    image = ee.Image(image)\n",
    "    onlyForest = image.remap([3],[1], defaultValue = None)\n",
    "    return onlyForest\n",
    "\n",
    "LCMSlanduseSum = LCMSlanduseCol.map(remapLCMS).reduce(ee.Reducer.sum())\n",
    "\n",
    "# # combining the two layers into a landuse / landcover mask\n",
    "lulcMask = NLCDMask.updateMask(LCMSlanduseSum.gte(36))\n",
    "lulcMask = lulcMask.clip(loblolly) # clip mask to study boundaries for better loading"
   ]
  },
  {
   "cell_type": "markdown",
   "id": "69036e32",
   "metadata": {},
   "source": [
    "### _LCMS Fast Change Method_"
   ]
  },
  {
   "cell_type": "code",
   "execution_count": null,
   "id": "1065ec27",
   "metadata": {
    "scrolled": false
   },
   "outputs": [],
   "source": [
    "# Using the LCMS Change metric to identify harvest areas\n",
    "LCMSchange = LCMS.select('Change_Raw_Probability_Fast_Loss')\n",
    "\n",
    "def LCMSchangeSelection(image):\n",
    "    # filtering pixels to only > 70% fast change confidence\n",
    "    image = ee.Image(image)\n",
    "    minConfidence = 70\n",
    "    gtePercent = image.gte(ee.Image.constant(minConfidence))\n",
    "    gtePercent = gtePercent.updateMask(gtePercent.eq(1))\n",
    "    # updating the image properties for disturbance year\n",
    "    gtePercent = gtePercent.set({'year':image.date().get('year')})\n",
    "    outImage = gtePercent.updateMask(lulcMask).rename('remapped')\n",
    "    return outImage\n",
    "\n",
    "# applying the function to the LCMS\n",
    "FC_stack = LCMSchange.map(LCMSchangeSelection)"
   ]
  },
  {
   "cell_type": "markdown",
   "id": "9f60b469",
   "metadata": {},
   "source": [
    "### _Connected Pixel (Min stand size) mask_"
   ]
  },
  {
   "cell_type": "code",
   "execution_count": null,
   "id": "de135c78",
   "metadata": {},
   "outputs": [],
   "source": [
    "# A function to apply a connected pixel mask to the input image\n",
    "def conectPixls(InImage,minArea,maxPixels):\n",
    "    pixelCount = InImage.connectedPixelCount(maxPixels,False)\n",
    "    minPixelCount = ee.Image(minArea).divide(ee.Image.pixelArea())\n",
    "    outImage = InImage.updateMask(pixelCount.gte(minPixelCount))\n",
    "    return outImage\n",
    "\n",
    "# a function to be mapped accross an image collection and annually apply the connected pixels mask, also creates an\n",
    "# additional band to store the year of disturbance for each pixel\n",
    "def annualConectPixls(image):\n",
    "    conectPixlsMasked = conectPixls(image,40000,1024) # minimum stand size of 4 ha (represented in m3), and\n",
    "    imgYear = image.get('year')                       #     maximum of 92 ha (represented in pixel count) (tool limit)\n",
    "    imgYearBand = ee.Image.constant(imgYear).uint16().rename('ChangeY')\n",
    "    imgYearBand = imgYearBand.updateMask(conectPixlsMasked)\n",
    "    return conectPixlsMasked.addBands(imgYearBand)\n",
    "\n",
    "FC_final = FC_stack.map(annualConectPixls)"
   ]
  },
  {
   "cell_type": "code",
   "execution_count": null,
   "id": "c61b86c6",
   "metadata": {},
   "outputs": [],
   "source": [
    "# creating the summary images\n",
    "FC_final_changeN = FC_final.select('remapped').reduce(ee.Reducer.sum())\n",
    "FC_final_firstYear = FC_final.select('ChangeY').reduce(ee.Reducer.min())\n",
    "FC_final_lastYear = FC_final.select('ChangeY').reduce(ee.Reducer.max())"
   ]
  },
  {
   "cell_type": "markdown",
   "id": "649db560",
   "metadata": {},
   "source": [
    "### _Applying disturbance window mask_"
   ]
  },
  {
   "cell_type": "code",
   "execution_count": null,
   "id": "f683eec0",
   "metadata": {},
   "outputs": [],
   "source": [
    "# Going to help to keep detected disturbances within a given window of time\n",
    "# first detected disturbance\n",
    "FC_final_changeN = FC_final_changeN.updateMask(FC_final_firstYear.gte(startingD.get('year')) \\\n",
    "                                               .And(FC_final_firstYear.lte(endingD.get('year')))\n",
    "                                              )\n",
    "# last detected disturbance\n",
    "FC_final_changeN = FC_final_changeN.updateMask(FC_final_lastYear.gte(startingD.get('year')) \\\n",
    "                                               .And(FC_final_lastYear.lte(endingD.get('year')))\n",
    "                                              )\n"
   ]
  },
  {
   "cell_type": "code",
   "execution_count": null,
   "id": "7eb197f6",
   "metadata": {},
   "outputs": [],
   "source": [
    "# Final potential sample pixels\n",
    "# An image representing pixels that meet all selection criteria\n",
    "potentialSamples = ee.Image.toUint8(FC_final_changeN.updateMask(FC_final_changeN.eq(1))).rename('remapped_sum')"
   ]
  },
  {
   "cell_type": "markdown",
   "id": "e7a73efb",
   "metadata": {},
   "source": [
    "### _Filter Selection to Only Include Homogenous, Non-Edge Groups of Pixels_"
   ]
  },
  {
   "cell_type": "code",
   "execution_count": null,
   "id": "85c74481",
   "metadata": {},
   "outputs": [],
   "source": [
    "# Edge avoidence\n",
    "PS_connectedPixelCount = potentialSamples.reduceNeighborhood(ee.Reducer.count(),\n",
    "                                                             ee.Kernel.circle(2, 'pixels', False, 1),\n",
    "                                                             'mask',\n",
    "                                                             True\n",
    "                                                            )\n",
    "potentialSamples2 = potentialSamples.updateMask(PS_connectedPixelCount.gte(13))"
   ]
  },
  {
   "cell_type": "markdown",
   "id": "f8f4b76a",
   "metadata": {},
   "source": [
    "---"
   ]
  },
  {
   "cell_type": "markdown",
   "id": "328cfac5",
   "metadata": {},
   "source": [
    "## Automatic Stand Selection Method"
   ]
  },
  {
   "cell_type": "markdown",
   "id": "9bee631b",
   "metadata": {},
   "source": [
    "### _Creating Sampling Areas Using Ecoregions_"
   ]
  },
  {
   "cell_type": "code",
   "execution_count": null,
   "id": "cc0cbc82",
   "metadata": {
    "scrolled": true
   },
   "outputs": [],
   "source": [
    "# Function to convert the ecoregion code to an integer value\n",
    "def convertPropertyToBand(feat):\n",
    "    feat = ee.Feature(feat)\n",
    "    prop = feat.get('US_L3CODE')\n",
    "    propInt = ee.Number.parse(prop).toInt()\n",
    "    feat = feat.set({'numericL3ecocode':propInt})\n",
    "    return feat\n",
    "loblolly = loblolly.map(convertPropertyToBand)\n",
    "\n",
    "# Need to convert ecoregion feature collection and the property to integer in order for it to be used \n",
    "#     as the 'classBand' in the stratifiedSample fucntion\n",
    "ecoregionImage = ee.Image(loblolly.reduceToImage(['numericL3ecocode'],ee.Reducer.first()))\n",
    "ecoregionImage = ecoregionImage.cast({'first':'uint8'})\n",
    "ecoregionImage = ecoregionImage.clipToCollection(loblolly)\n",
    "\n",
    "# (old method), want to just export a single band\n",
    "# Adding ecoregion code as band to potential sample pixels\n",
    "#potentialSamples2 = potentialSamples2.addBands(ecoregionImage.select('first').rename('numericL3ecocode'))\n",
    "\n",
    "potentialSamples2 = ecoregionImage.select('first').rename('numericL3ecocode').updateMask(potentialSamples2)"
   ]
  },
  {
   "cell_type": "markdown",
   "id": "1627a60b",
   "metadata": {},
   "source": [
    "### _Imports/Exports of Created Data_"
   ]
  },
  {
   "cell_type": "code",
   "execution_count": null,
   "id": "90809049",
   "metadata": {},
   "outputs": [],
   "source": [
    "## today's date\n",
    "today = str(datetime.now()).split(\" \")[0]\n",
    "today = today.replace(\"-\",\"_\")\n",
    "today = \"_\"+today\n",
    "print(today)"
   ]
  },
  {
   "cell_type": "code",
   "execution_count": null,
   "id": "ca6dfc06",
   "metadata": {},
   "outputs": [],
   "source": [
    "# # Optional batch export process to export the final potential samples raster\n",
    "# exportTask = ee.batch.Export.image.toDrive(image = potentialSamples2, \n",
    "#                                            description = 'PotentialSamples'+today, \n",
    "#                                            folder = 'EarthEngine_Exports', \n",
    "#                                            region = loblolly.geometry(), \n",
    "#                                            scale = 30, \n",
    "#                                            skipEmptyTiles = True,\n",
    "#                                            maxPixels = 3000000000,\n",
    "#                                            fileFormat = 'GeoTIFF', \n",
    "#                                            )\n",
    "# exportTask.start()"
   ]
  },
  {
   "cell_type": "code",
   "execution_count": null,
   "id": "dbf705b0",
   "metadata": {},
   "outputs": [],
   "source": [
    "## Importing points created in arcpro using the raster exported above, couldn't figure out a way to create sample points\n",
    "##    in GEE with a minimum 1km spacing in time for thesis\n",
    "samplePoints = ee.FeatureCollection('users/dputnam21/samplePoints_06282022')"
   ]
  },
  {
   "cell_type": "markdown",
   "id": "13b09d5c",
   "metadata": {},
   "source": [
    "---"
   ]
  },
  {
   "cell_type": "markdown",
   "id": "c34ba187",
   "metadata": {},
   "source": [
    "### _Creating Random Sample Points_"
   ]
  },
  {
   "cell_type": "code",
   "execution_count": null,
   "id": "b05ee5cd",
   "metadata": {},
   "outputs": [],
   "source": [
    "## Sample points can be created using this function, however the proportional allocation of samples has to \n",
    "##    be done manaually and there is no functionality for minimum point spacing\n",
    "# samplePoints = potentialSamples2.stratifiedSample(numPoints = 50,\n",
    "#                                                  classValues = [34,35,45,63,64,65,66,67,68,71,73,74,75],\n",
    "#                                                  classPoints = [2,404,391,148,1,799,5,40,36,4,1,61,114],\n",
    "#                                                  region = loblolly,\n",
    "#                                                  classBand = 'numericL3ecocode',\n",
    "#                                                  scale = 30,\n",
    "#                                                  seed = 5,\n",
    "#                                                  dropNulls = True,\n",
    "#                                                  geometries = True,\n",
    "#                                                  )"
   ]
  },
  {
   "cell_type": "markdown",
   "id": "65253083",
   "metadata": {},
   "source": [
    "### _Creating Point Buffers for Sampling_"
   ]
  },
  {
   "cell_type": "code",
   "execution_count": null,
   "id": "d7b6b784",
   "metadata": {},
   "outputs": [],
   "source": [
    "# optional reduction in the number of sample points for methodology testing\n",
    "sampleLimit = samplePoints.size().getInfo() # can change this to a number for data reduction purposes\n",
    "\n",
    "samplePoints2 = samplePoints.limit(ee.Number(sampleLimit),\n",
    "                                   'UniqueID',\n",
    "                                   True\n",
    "                                  )\n",
    "numSamples = samplePoints2.size().getInfo()"
   ]
  },
  {
   "cell_type": "code",
   "execution_count": null,
   "id": "232ccf6e",
   "metadata": {},
   "outputs": [],
   "source": [
    "# defining a function to be mapped over point feature collection to create buffers\n",
    "def makeBuffers(feat):\n",
    "    inFeat = ee.Feature(feat)\n",
    "    buff = inFeat.buffer(distance = 60) # 60 meter buffer = 2 pixel radius to align with circlular kernel mask\n",
    "    return buff\n",
    "\n",
    "sampleCircles = samplePoints2.map(makeBuffers)"
   ]
  },
  {
   "cell_type": "markdown",
   "id": "95de9c96",
   "metadata": {},
   "source": [
    "### _Displaying streamed layers on a map_"
   ]
  },
  {
   "cell_type": "code",
   "execution_count": null,
   "id": "3c9fb17f",
   "metadata": {
    "scrolled": false
   },
   "outputs": [],
   "source": [
    "# LCMS landcover palette\n",
    "LCMSlcPalette = ['efff6b','ff2ff8','1b9d0c','97ffff','a1a1a1','c2b34a','1B1716']\n",
    "\n",
    "Map = geemap.Map(basemap=\"SATELLITE\")\n",
    "\n",
    "# centered on Wadesboro NC, the location of a figure in the thesis\n",
    "Map.centerObject(ee.Feature(ee.Geometry.Point([-80.076728, 34.966592])),13)\n",
    "\n",
    "# This is the bottom of the layer order\n",
    "\n",
    "# Each layer is an additive mask, meaning the name of the layer is just the step in a cumulative process\n",
    "\n",
    "Map.addLayer(ee.Image().paint(loblolly, color = 'black',width = 3), name = 'ecoRegion Outlines', shown = False)\n",
    "Map.addLayer(ecoregionImage.select('first'), vis_params = {'palette': LCMSlcPalette, 'min': 45, 'max':75}, name = 'Ecoregion Code Image',shown = False)\n",
    "Map.addLayer(NLCDMask, vis_params = {'palette': ['ffffcc'],'min':1,'max':1}, name = 'NLCD landcover Mask', shown = True)\n",
    "Map.addLayer(lulcMask, vis_params = {'palette': ['a1dab4'],'min':1,'max':1}, name = 'LCMS landuse mask', shown = True)\n",
    "Map.addLayer(FC_stack, vis_params = {'palette': ['41b6c4'],'min':0,'max':1}, name = 'Fast Change (>70%)', shown = True)\n",
    "Map.addLayer(FC_final.select('remapped'), vis_params = {'palette': ['2c7fb8'],'min':0,'max':1}, name = 'Minimum Disturbance Area', shown = True)\n",
    "Map.addLayer(potentialSamples2.select('numericL3ecocode'),{'palette':['7E3054'],'min':0,'max':1}, name = 'Edge Removal, Only 1 Fast Change', shown = True)\n",
    "Map.addLayer(samplePoints,{'color':'d9c31c'}, name = 'Stratified Random Samples',shown = False)\n",
    "\n",
    "# This is the top of the layer order\n",
    "\n",
    "Map.addLayerControl()\n",
    "Map"
   ]
  },
  {
   "cell_type": "markdown",
   "id": "37454912",
   "metadata": {},
   "source": [
    "---"
   ]
  },
  {
   "cell_type": "markdown",
   "id": "7558894d",
   "metadata": {},
   "source": [
    "## NBR Time-Series Extraction"
   ]
  },
  {
   "cell_type": "markdown",
   "id": "2e649041",
   "metadata": {},
   "source": [
    "### _Setup for Annual Compositing & Time-series Extraction Procedure_"
   ]
  },
  {
   "cell_type": "code",
   "execution_count": null,
   "id": "58a5bc38",
   "metadata": {},
   "outputs": [],
   "source": [
    "# enter analysis parameters\n",
    "compositeMonthStart = 2 \n",
    "compositeMonthEnd = 3 #inclusive\n",
    "outputIndex = 'NBR'\n",
    "\n",
    "# prep for function\n",
    "chart_VI = LS_stack_wVI.filter(ee.Filter.calendarRange(compositeMonthStart,compositeMonthEnd,'month'));\n",
    "proj = potentialSamples2.select('numericL3ecocode').projection()\n",
    "\n",
    "years = ee.List.sequence(1984, 2021)"
   ]
  },
  {
   "cell_type": "code",
   "execution_count": null,
   "id": "81daf14b",
   "metadata": {},
   "outputs": [],
   "source": [
    "# Interting a single constant image into the Landsat stack to avoid missing data in 1990\n",
    "#    the 0.0 value is replaced with an NA object later, GEE doesn't like mapping over NA's\n",
    "zeroImage1 = ee.Image.constant(0.0).clipToBoundsAndScale(loblolly.geometry(),scale = 30).toFloat()\n",
    "zeroImage1 = zeroImage1.rename(['NBR'])\n",
    "zeroImage = zeroImage1.set('system:time_start', ee.Date.fromYMD(1990,compositeMonthStart,1).millis())\n",
    "\n",
    "chart_VI = chart_VI.merge(zeroImage)"
   ]
  },
  {
   "cell_type": "markdown",
   "id": "4da77996",
   "metadata": {},
   "source": [
    "### _Vegetation Index Extraction Method_"
   ]
  },
  {
   "cell_type": "code",
   "execution_count": null,
   "id": "aedbc9e6",
   "metadata": {},
   "outputs": [],
   "source": [
    "# Extraction function that creates annual composites, writes values to a feature collection\n",
    "def annualComposite (year):\n",
    "    filteredColl = chart_VI.filter(ee.Filter.calendarRange(year, year, 'year'))\n",
    "    singleImage = filteredColl.select([str(outputIndex)]).reduce(ee.Reducer.median()) ## CHANGE COMPOSITE STAT HERE ###\n",
    "    outputImage = singleImage.set('system:time_start', ee.Date.fromYMD(year,compositeMonthStart, 1).millis())\n",
    "    outputCollection = outputImage.reduceRegions(collection = sampleCircles,\n",
    "                                                 reducer = ee.Reducer.mean(),\n",
    "                                                 scale = 30\n",
    "                                                )\n",
    "    return outputCollection\n",
    "\n",
    "export_data = ee.FeatureCollection(years.map(annualComposite)).flatten()"
   ]
  },
  {
   "cell_type": "code",
   "execution_count": null,
   "id": "17222790",
   "metadata": {},
   "outputs": [],
   "source": [
    "# Running a batch export process to execute the processes above\n",
    "exportTask = ee.batch.Export.table.toDrive(collection = export_data,\n",
    "                                            description = (outputIndex+\"_values\"+today),\n",
    "                                            folder = 'EarthEngine_Exports',\n",
    "                                            fileFormat = 'CSV',\n",
    "                                            selectors = ['UniqueID','mean']\n",
    "                                            )\n",
    "exportTask.start()"
   ]
  },
  {
   "cell_type": "markdown",
   "id": "6df2abdc",
   "metadata": {},
   "source": [
    "---"
   ]
  },
  {
   "cell_type": "markdown",
   "id": "89fe2e89",
   "metadata": {},
   "source": [
    "## Interpolating and Reformatting Data Locally"
   ]
  },
  {
   "cell_type": "markdown",
   "id": "20fc0584",
   "metadata": {},
   "source": [
    "### _Reformatting, and Writing Extracted VI Data_"
   ]
  },
  {
   "cell_type": "code",
   "execution_count": null,
   "id": "e9a5bd73",
   "metadata": {},
   "outputs": [],
   "source": [
    "# Importing the data exported in the above cell\n",
    "# It's easier to download locally then load here than to upload to GEE for access\n",
    "importVI = pd.read_csv('C:/R_workspace/Collection2_data/'+outputIndex+'_values_2022_09_22.csv')"
   ]
  },
  {
   "cell_type": "code",
   "execution_count": null,
   "id": "dc66a10c",
   "metadata": {
    "scrolled": true
   },
   "outputs": [],
   "source": [
    "# reformatting above values into dataframe (one row for each stand, 38 columns for each year)\n",
    "\n",
    "standIDs = np.sort(importVI.iloc[:,0].unique())\n",
    "imageYears = years.getInfo()\n",
    "\n",
    "# Creating the dataframe\n",
    "pd.set_option('display.max_rows', 500)\n",
    "pd.set_option('display.max_columns', 500)\n",
    "pd.set_option('display.width', 1000)\n",
    "VItsDF = pd.DataFrame(index = standIDs, columns = imageYears)\n",
    "\n",
    "for stand in standIDs:\n",
    "    singleStandDF = importVI.loc[importVI['UniqueID'] == stand]\n",
    "    VItsDF.iloc[stand,:] = singleStandDF['mean']\n",
    "    \n",
    "VItsDF[1990] = [np.nan]*len(standIDs)\n",
    "\n",
    "# for some reason all the columns dtype is 'object' converting to float above wasn't working \n",
    "#      so I'll just have to convert the columns\n",
    "for col in VItsDF:\n",
    "    VItsDF[col] = pd.to_numeric(VItsDF[col], errors='coerce')\n",
    "VItsDF"
   ]
  },
  {
   "cell_type": "markdown",
   "id": "54df0acc",
   "metadata": {},
   "source": [
    "### _Inter-annual Interpolation and creating time series plots_"
   ]
  },
  {
   "cell_type": "code",
   "execution_count": null,
   "id": "072d15a6",
   "metadata": {
    "scrolled": false
   },
   "outputs": [],
   "source": [
    "## interpolation of null values using Akima splines\n",
    "plotDF = VItsDF.interpolate(axis = 'columns',method = 'akima')\n",
    "\n",
    "# setting up for time-series plots\n",
    "fig, axs = plt.subplots(7, 3, sharex=False, sharey=True, figsize = (16,25))\n",
    "\n",
    "for i, ax in enumerate(fig.axes):\n",
    "    ax.plot(plotDF.iloc[i,].transpose(),label = \"Interpolated\")\n",
    "    ax.plot(VItsDF.iloc[i,].transpose(),label = \"Original\")\n",
    "    ax.scatter(imageYears,VItsDF.iloc[i,], color = 'orange',s = 20)\n",
    "    ax.legend(loc='lower right')\n",
    "    ax.set_title(\"Stand\"+' '+str(standIDs[i])+' '+\"Time-Series\")\n",
    "    \n",
    "fig.subplots_adjust(left=0.1, bottom=0.1, right=None, top=None, wspace=0.3, hspace=0.5)\n",
    "fig.text(0.5, 0.04, 'Year', ha='center', va='center')\n",
    "fig.text(0.06, 0.5, (outputIndex+' '+'value'), ha='center', va='center', rotation='vertical')\n",
    "\n",
    "fig.savefig(\"C:/R_workspace/timeSeries_interpolation.svg\")"
   ]
  },
  {
   "cell_type": "code",
   "execution_count": null,
   "id": "883b3f46",
   "metadata": {
    "scrolled": true
   },
   "outputs": [],
   "source": [
    "# display the interpolated table\n",
    "plotDF\n",
    "\n",
    "# write the table locally\n",
    "plotDF.to_csv(path_or_buf=\"C:/R_workspace/Collection2_data/\"+outputIndex+\"_timeSeries\"+today+\".csv\", \\\n",
    "              sep=',', na_rep='', float_format=None, header=True, index=True, mode='w')"
   ]
  }
 ],
 "metadata": {
  "kernelspec": {
   "display_name": "Python 3",
   "language": "python",
   "name": "python3"
  },
  "language_info": {
   "codemirror_mode": {
    "name": "ipython",
    "version": 3
   },
   "file_extension": ".py",
   "mimetype": "text/x-python",
   "name": "python",
   "nbconvert_exporter": "python",
   "pygments_lexer": "ipython3",
   "version": "3.9.5"
  }
 },
 "nbformat": 4,
 "nbformat_minor": 5
}
