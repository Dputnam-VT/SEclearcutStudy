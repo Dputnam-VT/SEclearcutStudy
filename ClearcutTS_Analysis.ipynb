{
 "cells": [
  {
   "cell_type": "markdown",
   "id": "c134e9cd",
   "metadata": {},
   "source": [
    "\n",
    "<h1><center>Trends In Forest Recovery After Stand Replacing Disturbance: A Spectrotemporal Evaluation Of Productivity In Southeastern Pine Forests</center></h1>\n",
    "\n",
    "<h4><center> Daniel J. Putnam </center></h4>\n",
    "\n",
    "<center> For partial fulfillment of the reqiurements for the Master of Science degree </center>\n",
    "<center> College of Natural Resources and Environment </center>\n",
    "<center> Virginia Polytechnic Institute and State University </center>\n"
   ]
  },
  {
   "cell_type": "markdown",
   "id": "73021364",
   "metadata": {},
   "source": [
    "## Analysis Preperation"
   ]
  },
  {
   "cell_type": "markdown",
   "id": "cc87dce3",
   "metadata": {},
   "source": [
    "### _Libraries_"
   ]
  },
  {
   "cell_type": "code",
   "execution_count": 2,
   "id": "d7a09c62",
   "metadata": {},
   "outputs": [],
   "source": [
    "import geemap\n",
    "import ee\n",
    "import folium\n",
    "import pandas as pd\n",
    "import numpy as np\n",
    "import matplotlib.pyplot as plt\n",
    "from IPython.display import Image\n",
    "from palettable.colorbrewer.diverging import RdYlGn_11 as NDVIpalette\n",
    "from palettable.colorbrewer.sequential import YlOrRd_9 as LCMSpalette\n",
    "ee.Initialize()"
   ]
  },
  {
   "cell_type": "markdown",
   "id": "2b1cdbf3",
   "metadata": {},
   "source": [
    "### _Imports_"
   ]
  },
  {
   "cell_type": "code",
   "execution_count": 3,
   "id": "25606093",
   "metadata": {},
   "outputs": [],
   "source": [
    "LS5 = ee.ImageCollection(\"LANDSAT/LT05/C01/T1_SR\") # landsat 5\n",
    "LS7 = ee.ImageCollection(\"LANDSAT/LE07/C01/T1_SR\") # landsat 7\n",
    "LS8 = ee.ImageCollection(\"LANDSAT/LC08/C01/T1_SR\") # landsat 8\n",
    "LCMS = ee.ImageCollection(\"USFS/GTAC/LCMS/v2020-5\") # Landcover Change Monitoring System\n",
    "NLCD_col = ee.ImageCollection(\"USGS/NLCD_RELEASES/2016_REL\") # national landcover Database\n",
    "STATES = ee.FeatureCollection(\"TIGER/2018/States\") # state polygon boundaries (probably don't need anymore)\n",
    "ecoRegions = ee.FeatureCollection(\"EPA/Ecoregions/2013/L3\") # EPA Ecoregions\n",
    "loblolly = ee.FeatureCollection(\"users/dputnam21/USFS_loblollyRange\") # USFS loblolly pine range within states of interest"
   ]
  },
  {
   "cell_type": "markdown",
   "id": "2e295bb3",
   "metadata": {},
   "source": [
    "### _Priliminary set-up_"
   ]
  },
  {
   "cell_type": "code",
   "execution_count": 4,
   "id": "dcc39449",
   "metadata": {},
   "outputs": [],
   "source": [
    "# Expirementing with colorbrewer palettes\n",
    "## palettes = ee.data.require('users/gena/packages:palettes') ## going to need to replace this section of code\n",
    "#NDVIpalette = palettes.colorbrewer.RdYlGn[9]\n",
    "#LCMSpalette = palettes.colorbrewer.YlOrRd[9]\n",
    "\n",
    "# Creating sample date range for disturbances\n",
    "startingD = ee.Date.fromYMD(1995,1,1)\n",
    "endingD = ee.Date.fromYMD(2010,12,31)"
   ]
  },
  {
   "cell_type": "markdown",
   "id": "6ec40195",
   "metadata": {},
   "source": [
    "### _Landcover/Landuse Mask_"
   ]
  },
  {
   "cell_type": "code",
   "execution_count": 5,
   "id": "092722b7",
   "metadata": {},
   "outputs": [],
   "source": [
    "# New NLCD/LCMS method\n",
    "# retrieve NLCD for each year\n",
    "NLCD_2001 = NLCD_col.filter(ee.Filter.eq('system:index', '2001')).first().select(\"landcover\")\n",
    "NLCD_2004 = NLCD_col.filter(ee.Filter.eq('system:index', '2004')).first().select(\"landcover\")\n",
    "NLCD_2006 = NLCD_col.filter(ee.Filter.eq('system:index', '2006')).first().select(\"landcover\")\n",
    "NLCD_2008 = NLCD_col.filter(ee.Filter.eq('system:index', '2008')).first().select(\"landcover\")\n",
    "NLCD_2011 = NLCD_col.filter(ee.Filter.eq('system:index', '2011')).first().select(\"landcover\")\n",
    "NLCD_2013 = NLCD_col.filter(ee.Filter.eq('system:index', '2013')).first().select(\"landcover\")\n",
    "NLCD_2016 = NLCD_col.filter(ee.Filter.eq('system:index', '2016')).first().select(\"landcover\")\n",
    "\n",
    "# retrieve LCMS landuse classification\n",
    "LCMSlanduseCol = LCMS.select(\"Land_Use\")\n",
    "\n",
    "# combine to image collection\n",
    "NLCDlandcover_col = ee.ImageCollection(ee.List([NLCD_2001,NLCD_2004,NLCD_2006,NLCD_2008,NLCD_2011,NLCD_2013,NLCD_2016]))\n",
    "\n",
    "# finding the most frequently identified landcover class\n",
    "NLCDmode = NLCDlandcover_col.reduce(ee.Reducer.mode())\n",
    "LCMSmode = LCMSlanduseCol.reduce(ee.Reducer.mode())\n",
    "\n",
    "# combining the two layers into a mask\n",
    "landCoverMask = LCMSmode.select('Land_Use_mode').eq(ee.Image(3))\n",
    "\n",
    "# Pixels must have forest landuse classification from LCMS, and evergreen (NLCD), or woody wetland (NLCD)\n",
    "landCoverMask = landCoverMask.updateMask(landCoverMask.And(NLCDmode.eq(ee.Image(42)) \\\n",
    "                                                           .Or(NLCDmode.eq(ee.Image(90))) \\\n",
    "                                                            ))\n",
    "\n",
    "landCoverMask = landCoverMask.clip(loblolly) # clip mask to study boundaries for better loading"
   ]
  },
  {
   "cell_type": "markdown",
   "id": "afed0f26",
   "metadata": {},
   "source": [
    "### _Landsat Preprocessing_"
   ]
  },
  {
   "cell_type": "code",
   "execution_count": 6,
   "id": "a6658501",
   "metadata": {},
   "outputs": [],
   "source": [
    "# Cloud masking based on the QA band : code taken from landsat example in data catalog in EE\n",
    "def LScloudMask(image):\n",
    "  qa = image.select('pixel_qa')\n",
    "    # removing cloud pixels if confiance is high, cloud shadow, snow\n",
    "  cloud = qa.bitwiseAnd(1 << 5).And(qa.bitwiseAnd(1 << 7)) \\\n",
    "            .Or(qa.bitwiseAnd(1 << 3)) \\\n",
    "            .Or(qa.bitwiseAnd(1 << 4))\n",
    "  return image.updateMask(cloud.Not())\n",
    "\n",
    "# Going to try removing the coverage overlap between LS5 and LS8 to try and fix some issues\n",
    "#LS5 = LS5.filterDate(start = '1984-01-01',opt_end = ee.Date('2013-04-11'))\n",
    "#LS8 = LS8.filterDate(start = ee.Date('2013-04-11'))\n",
    "\n",
    "# Lansat 5/7 & 8 differ in their band labeling, need to select the bands I'm going to use and rename them to\n",
    "# match each other before merging collections : bands I need [red,green,NIR,SWIR1,SWIR2]    \n",
    "LS8BandNames = ee.List(['B4','B3','B5','B6','B7','pixel_qa'])\n",
    "NewBandNames = ee.List(['B3','B2','B4','B5','B7','pixel_qa'])\n",
    "LS8 = LS8.select(LS8BandNames,NewBandNames)\n",
    "\n",
    "# Adding a function to calculate and add an NDVI band for a single image\n",
    "def addNDVI(image):\n",
    "  ndvi = image.normalizedDifference(['B4', 'B3']).rename('NDVI')\n",
    "  return image.addBands(ndvi)\n",
    "\n",
    "# Adding a function to calculate and add an NBR band for a single image.\n",
    "def addNBR(image):\n",
    "  nbr = image.normalizedDifference(['B4', 'B7']).rename('NBR')\n",
    "  return image.addBands(nbr)\n",
    "\n",
    "# Adding a function to calculate and add an MBI band for a single image.\n",
    "def addMBI(image):\n",
    "  MBI = image.expression(\n",
    "  \"MBI = ((b('B5') - b('B7') - b('B4')) / (b('B5') + b('B7') + b('B4'))) + 0.5\")\n",
    "  return image.addBands(MBI)\n",
    "\n",
    "# adding the cloud mask per generation\n",
    "LS5 = LS5.map(LScloudMask)\n",
    "LS7 = LS7.map(LScloudMask)\n",
    "LS8 = LS8.map(LScloudMask)\n",
    "\n",
    "# merging the landsat 5 and 7 collections\n",
    "LS_stack = LS5.merge(LS8)\n",
    "LS_stack = LS_stack.merge(LS7)\n",
    "\n",
    "# data reduction on the image stack\n",
    "LS_stack = LS_stack.filterBounds(loblolly)\n",
    "\n",
    "# Adding the indices to the filtered combined Landsat collection\n",
    "LS_stack_wVI = LS_stack.map(addNDVI)\n",
    "LS_stack_wVI = LS_stack_wVI.map(addNBR)\n",
    "LS_stack_wVI = LS_stack_wVI.map(addMBI)"
   ]
  },
  {
   "cell_type": "markdown",
   "id": "554452be",
   "metadata": {},
   "source": [
    "---"
   ]
  },
  {
   "cell_type": "markdown",
   "id": "ecdf60c8",
   "metadata": {},
   "source": [
    "## Stand Selection Methods"
   ]
  },
  {
   "cell_type": "markdown",
   "id": "69036e32",
   "metadata": {},
   "source": [
    "### _LCMS Fast change method_"
   ]
  },
  {
   "cell_type": "code",
   "execution_count": 7,
   "id": "1065ec27",
   "metadata": {
    "scrolled": false
   },
   "outputs": [],
   "source": [
    "# Using the LCMS Change metric to identify harvest areas in contrast to the max VI method\n",
    "# Filtering LCMS for the region and timeframe\n",
    "LCMSchange = LCMS.select('Change')\n",
    "LCMSchange = LCMSchange.filterDate(startingD,endingD)\n",
    "\n",
    "# a function to apply the landcover mask to the LCMS image stack and select only fast change pixels\n",
    "# also remaps values representing fast change to '1' and adds a band indicating year of disturbance\n",
    "def NLCDmask(image):\n",
    "    fastChange = image.updateMask(image.eq(3))\n",
    "    fastChange = fastChange.remap([3],[1],bandName = 'Change')\n",
    "    fastChangeMasked = fastChange.updateMask(landCoverMask)\n",
    "    return fastChangeMasked\n",
    "\n",
    "# applying the function to the LCMS\n",
    "FC_stack = LCMSchange.map(NLCDmask)"
   ]
  },
  {
   "cell_type": "markdown",
   "id": "9f60b469",
   "metadata": {},
   "source": [
    "### _Connected Pixel (Min stand size) mask_"
   ]
  },
  {
   "cell_type": "code",
   "execution_count": 8,
   "id": "de135c78",
   "metadata": {},
   "outputs": [],
   "source": [
    "# function to apply a connected pixel mask to the input image\n",
    "def conectPixls(InImage,minArea,maxPixels):\n",
    "    pixelCount = InImage.connectedPixelCount(maxPixels,False)\n",
    "    minPixelCount = ee.Image(minArea).divide(ee.Image.pixelArea())\n",
    "    outImage = InImage.updateMask(pixelCount.gte(minPixelCount))\n",
    "    return outImage\n",
    "\n",
    "# a function to be mapped accross an image collection and annually apply the connected pixels mask, also creates an\n",
    "# additional band to store the year of disturbance for each pixel\n",
    "def annualConectPixls(image):\n",
    "    conectPixlsMasked = conectPixls(image,37800,250)\n",
    "    imgYear = image.date().get('year')\n",
    "    imgYearBand = ee.Image.constant(imgYear).uint16().rename('ChangeY')\n",
    "    imgYearBand = imgYearBand.updateMask(conectPixlsMasked)\n",
    "    return conectPixlsMasked.addBands(imgYearBand)\n",
    "\n",
    "FC_final = FC_stack.map(annualConectPixls)"
   ]
  },
  {
   "cell_type": "code",
   "execution_count": 9,
   "id": "c61b86c6",
   "metadata": {},
   "outputs": [],
   "source": [
    "# creating the summary images\n",
    "FC_final_changeN = FC_final.select('remapped').reduce(ee.Reducer.sum()) #.reproject(FC_stack.select('remapped').first().projection())\n",
    "FC_final_1stYear = FC_final.select('ChangeY').reduce(ee.Reducer.min()) #.reproject(FC_stack.select('remapped').first().projection())"
   ]
  },
  {
   "cell_type": "markdown",
   "id": "f8f4b76a",
   "metadata": {},
   "source": [
    "---"
   ]
  },
  {
   "cell_type": "markdown",
   "id": "328cfac5",
   "metadata": {},
   "source": [
    "## New Automatic Stand Selection Method"
   ]
  },
  {
   "cell_type": "markdown",
   "id": "9bee631b",
   "metadata": {},
   "source": [
    "### _Creating Sampling Areas Using Ecoregions_"
   ]
  },
  {
   "cell_type": "code",
   "execution_count": 10,
   "id": "cc0cbc82",
   "metadata": {
    "scrolled": true
   },
   "outputs": [],
   "source": [
    "# Limit ecoregions by overlap with loblolly range\n",
    "loblollyEcoRegions = ecoRegions.filterBounds(loblolly)\n",
    "\n",
    "# Function to convert the ecoregion code to an integer value\n",
    "def convertPropertyToBand(feat):\n",
    "    feat = ee.Feature(feat)\n",
    "    prop = feat.get('us_l3code')\n",
    "    propInt = ee.Number.parse(prop).toInt()\n",
    "    feat = feat.set({'numericL3ecocode':propInt})\n",
    "    return feat\n",
    "loblollyEcoRegions = loblollyEcoRegions.map(convertPropertyToBand)\n",
    "\n",
    "# Need to convert ecoregion feature collection and the property to integer in order for it to be used \n",
    "#     as the 'classBand' in the stratifiedSample fucntion\n",
    "ecoregionImage = ee.Image(loblollyEcoRegions.reduceToImage(['numericL3ecocode'],ee.Reducer.first()))\n",
    "ecoregionImage = ecoregionImage.cast({'first':'int8'})\n",
    "ecoregionImage = ecoregionImage.clipToCollection(loblolly)\n",
    "\n",
    "# An image representing pixels that are fast change and meet the landcover reqiurements\n",
    "potentialSamples = FC_final_changeN.updateMask(FC_final_changeN.lte(2))\n",
    "\n",
    "# Adding ecoregion code as band to potential sample pixels\n",
    "potentialSamples = potentialSamples.addBands(ecoregionImage.select('first').rename('numericL3ecocode'))"
   ]
  },
  {
   "cell_type": "markdown",
   "id": "aefd8478",
   "metadata": {},
   "source": [
    "### _Creating Random Sample Points_"
   ]
  },
  {
   "cell_type": "code",
   "execution_count": null,
   "id": "bf09465a",
   "metadata": {
    "scrolled": true
   },
   "outputs": [],
   "source": [
    "# Going to try just using the export table function to drive\n",
    "samplePoints = potentialSamples.stratifiedSample(numPoints = 50,\n",
    "                                                 region = loblolly,\n",
    "                                                 classBand = 'numericL3ecocode',\n",
    "                                                 scale = 30,\n",
    "                                                 seed = 5,\n",
    "                                                 dropNulls = True,\n",
    "                                                 geometries = True,\n",
    "                                                 )\n",
    "\n",
    "# The export process will take about 15 minutes to complete\n",
    "geemap.ee_export_vector_to_drive(samplePoints, 'stratifiedSamplePoints', 'EarthEngine_Exports', file_format='shp', selectors=None)"
   ]
  },
  {
   "cell_type": "code",
   "execution_count": 13,
   "id": "bce5950b",
   "metadata": {},
   "outputs": [],
   "source": [
    "# Importing the points created in the above cell\n",
    "samplePoints = ee.FeatureCollection('users/dputnam21/stratifiedSamplePoints_03022022')"
   ]
  },
  {
   "cell_type": "markdown",
   "id": "13b09d5c",
   "metadata": {},
   "source": [
    "---"
   ]
  },
  {
   "cell_type": "markdown",
   "id": "95de9c96",
   "metadata": {},
   "source": [
    "### Displaying images on the map"
   ]
  },
  {
   "cell_type": "code",
   "execution_count": 15,
   "id": "3c9fb17f",
   "metadata": {
    "scrolled": true
   },
   "outputs": [
    {
     "data": {
      "application/vnd.jupyter.widget-view+json": {
       "model_id": "00e8109aff564af6ae25b8ad38b0ea17",
       "version_major": 2,
       "version_minor": 0
      },
      "text/plain": [
       "Map(center=[33.55547594326177, -83.81053005836175], controls=(WidgetControl(options=['position', 'transparent_…"
      ]
     },
     "metadata": {},
     "output_type": "display_data"
    }
   ],
   "source": [
    "# LCMS landcover palette\n",
    "LCMSlcPalette = ['efff6b','ff2ff8','1b9d0c','97ffff','a1a1a1','c2b34a','1B1716']\n",
    "\n",
    "Map = geemap.Map()\n",
    "Map.centerObject(loblolly,7)\n",
    "\n",
    "# This is the bottom of the layer order\n",
    "\n",
    "Map.addLayer(ecoregionImage.select('first'), vis_params = {'palette': LCMSlcPalette, 'min': 45, 'max':75}, name = 'Ecoregion Code Image')\n",
    "Map.addLayer(loblolly, vis_params = {'color' :'red'}, name = 'Study Area', shown = False)\n",
    "Map.addLayer(landCoverMask, vis_params = {'palette': ['white','2ca25f'], 'min' : 0, 'max' : 1}, name = 'new landcover mask', shown = True)\n",
    "Map.addLayer(FC_final_1stYear,{'palette':['edf8b1','7fcdbb','2c7fb8'],'min' : 1995, 'max' : 2010},'LCMS Fast Change Year',False)\n",
    "Map.addLayer(FC_final_changeN,{'palette':['fee0d2','fc9272','de2d26'],'min':1,'max':3},'LCMS Fast Change Count',False)\n",
    "Map.addLayer(potentialSamples.select('remapped_sum'),{'palette':['fee0d2','fc9272','de2d26'],'min':1,'max':5}, name = 'Potential Sample Pixels')\n",
    "Map.addLayer(samplePoints,{'color':'red'}, name = 'Stratified Random Samples')\n",
    "\n",
    "\n",
    "\n",
    "# This is the top of the layer order\n",
    "Map.addLayerControl()\n",
    "Map"
   ]
  },
  {
   "cell_type": "markdown",
   "id": "6877e2f6",
   "metadata": {},
   "source": [
    "### Export of stand attributes"
   ]
  },
  {
   "cell_type": "code",
   "execution_count": 16,
   "id": "08113d61",
   "metadata": {},
   "outputs": [],
   "source": [
    "# adding unique ID to each point\n",
    "\n",
    "# Adding environmental variables as attributes for each stand\n"
   ]
  },
  {
   "cell_type": "markdown",
   "id": "2e649041",
   "metadata": {},
   "source": [
    "### New compositing method"
   ]
  },
  {
   "cell_type": "code",
   "execution_count": null,
   "id": "58a5bc38",
   "metadata": {},
   "outputs": [],
   "source": [
    "# enter analysis parameters\n",
    "compositeMonthN = 11\n",
    "outputIndex = 'NBR'\n",
    "compositeStat = 'median'\n",
    "\n",
    "# prep for function\n",
    "chart_VI = LS_stack_wVI.filter(ee.Filter.calendarRange(compositeMonthN,compositeMonthN,'month'));\n",
    "\n",
    "years = ee.List.sequence(1984, 2020)"
   ]
  },
  {
   "cell_type": "code",
   "execution_count": null,
   "id": "cf5c1c1f",
   "metadata": {
    "scrolled": true
   },
   "outputs": [],
   "source": [
    "from datetime import datetime\n",
    "\n",
    "start = datetime.now() # figuring out how long this takes to run\n",
    "\n",
    "def perFeatureValueExtraction(index,comMonth,vegIndex,comStat) :\n",
    "    \n",
    "    aFeature = ee.Feature(stands2.filter(ee.Filter.eq('UniqueID', index)).first())\n",
    "    inFeature = aFeature.geometry()\n",
    "\n",
    "    local_chart_VI = chart_VI.filterBounds(inFeature)\n",
    "\n",
    "    # A function to be mapped over a feature colllection, extracts 37 index values for each feature, returns them as a\n",
    "    def seasonalReduction_extraction (y):\n",
    "        filteredColl = local_chart_VI.filter(ee.Filter.calendarRange(y, y, 'year'))\n",
    "        singleImage = filteredColl.select(['NDVI','NBR','MBI']).reduce(ee.Reducer.median()) ## CHANGE COMPOSITE STAT HERE ###\n",
    "        outputImage = singleImage.set('system:time_start', ee.Date.fromYMD(y,comMonth, 1).millis())\n",
    "        valDict = outputImage.reduceRegion(reducer = ee.Reducer.mean(), geometry = inFeature, scale = 30)\n",
    "        NBRval = ee.Number(valDict.get(ee.String(vegIndex+'_'+compositeStat),defaultValue = 0.0))\n",
    "        return ee.List([NBRval, 0.0]).reduce(ee.Reducer.firstNonNull())\n",
    "\n",
    "    outputList = ee.List(years.map(seasonalReduction_extraction,False)).getInfo()\n",
    "    return outputList\n",
    "\n",
    "# calling the function\n",
    "NumPlots = stands2.size().getInfo()\n",
    "ListOfValLists = []\n",
    "\n",
    "for index in range(NumPlots) :\n",
    "    #aFeature = ee.Feature(stands2.filter(ee.Filter.eq('system:index', 0)).first())\n",
    "    aList = perFeatureValueExtraction(index,compositeMonthN,outputIndex,compositeStat)\n",
    "    ListOfValLists.append(aList)\n",
    "    \n",
    "end = datetime.now() # effectively ending the timer\n",
    "duration = end - start\n",
    "\n",
    "# nicely printing the ellapsed time\n",
    "print('this function took this long to run :',duration,'\\n')\n",
    "timeList = str(duration).split(':')\n",
    "print('The time elapsed during this execution of this operation was :','\\n',\n",
    "     timeList[0],'Hour(s)','\\n',\n",
    "     timeList[1],'Minute(s)','\\n',\n",
    "      'and',round(float(timeList[2]),ndigits = 0),'Seconds'\n",
    "     )\n",
    "\n",
    "# nicely displaying the raw data\n",
    "standNum = 0\n",
    "for alist in ListOfValLists :\n",
    "    print('Stand',standNum,'\\n',alist,'\\n',('-'*124))\n",
    "    standNum += 1"
   ]
  },
  {
   "cell_type": "code",
   "execution_count": null,
   "id": "f74c7e13",
   "metadata": {
    "scrolled": true
   },
   "outputs": [],
   "source": [
    "# creating arrays for rows and columns of the table\n",
    "stand_nums = range(0,stands2.size().getInfo())\n",
    "imageYears = years.getInfo()\n",
    "\n",
    "# client side replacement of null value (0.0) with null object\n",
    "NDVIvals = ListOfValLists\n",
    "for i in range(0,len(NDVIvals)):\n",
    "    for i2 in range(0,imageYears) :\n",
    "        if NDVIvals[i][i2] == 0 :\n",
    "            NDVIvals[i][i2] = None"
   ]
  },
  {
   "cell_type": "code",
   "execution_count": null,
   "id": "9f364f87",
   "metadata": {
    "scrolled": true
   },
   "outputs": [],
   "source": [
    "# Creating the dataframe\n",
    "pd.set_option('display.max_rows', 500)\n",
    "pd.set_option('display.max_columns', 500)\n",
    "pd.set_option('display.width', 1000)\n",
    "\n",
    "NDVItsDF = pd.DataFrame(index = stand_nums, columns = imageYears)\n",
    "valIndex = 0\n",
    "for r in range(0,len(stand_nums)):\n",
    "    for c in range(0,len(imageYears)):\n",
    "        NDVItsDF.iloc[r,c] = NDVIvals[r][c]\n",
    "        valIndex += 1\n",
    "        \n",
    "for col in NDVItsDF:\n",
    "    NDVItsDF[col] = pd.to_numeric(NDVItsDF[col], errors='coerce')\n",
    "NDVItsDF"
   ]
  },
  {
   "cell_type": "markdown",
   "id": "54df0acc",
   "metadata": {},
   "source": [
    "### Creating time series plots"
   ]
  },
  {
   "cell_type": "code",
   "execution_count": null,
   "id": "072d15a6",
   "metadata": {
    "scrolled": true
   },
   "outputs": [],
   "source": [
    "%matplotlib inline\n",
    "import scipy as sp\n",
    "import scipy.signal as scisig\n",
    "\n",
    "# interpolation of null values\n",
    "plotDF = NDVItsDF.interpolate(axis = 'columns',method = 'linear')\n",
    "\n",
    "# setting up for time-series plots\n",
    "fig, axs = plt.subplots(7, 3, sharex=False, sharey=True, figsize = (16,25))\n",
    "\n",
    "for i, ax in enumerate(fig.axes):\n",
    "    ax.plot(plotDF.iloc[i,].transpose(),label = \"Interpolated\")\n",
    "    ax.plot(NDVItsDF.iloc[i,].transpose(),label = \"Original\")\n",
    "    ax.scatter(imageYears,NDVItsDF.iloc[i,], color = 'orange',s = 20)\n",
    "    ax.legend(loc='lower right')\n",
    "    ax.set_title(\"Stand\"+' '+str(i)+' '+\"Time-Series\")\n",
    "    \n",
    "fig.subplots_adjust(left=0.1, bottom=0.1, right=None, top=None, wspace=0.3, hspace=0.5)\n",
    "fig.text(0.5, 0.04, 'Year', ha='center', va='center')\n",
    "fig.text(0.06, 0.5, (outputIndex+' '+'value'), ha='center', va='center', rotation='vertical')"
   ]
  },
  {
   "cell_type": "code",
   "execution_count": null,
   "id": "883b3f46",
   "metadata": {
    "scrolled": true
   },
   "outputs": [],
   "source": [
    "plotDF\n",
    "\n",
    "plotDF.to_csv(path_or_buf=\"C:/R_workspace/timeSeriesDF.csv\", sep=',', na_rep='', float_format=None, header=True, index=True, mode='w')"
   ]
  }
 ],
 "metadata": {
  "kernelspec": {
   "display_name": "Python 3",
   "language": "python",
   "name": "python3"
  },
  "language_info": {
   "codemirror_mode": {
    "name": "ipython",
    "version": 3
   },
   "file_extension": ".py",
   "mimetype": "text/x-python",
   "name": "python",
   "nbconvert_exporter": "python",
   "pygments_lexer": "ipython3",
   "version": "3.9.5"
  }
 },
 "nbformat": 4,
 "nbformat_minor": 5
}
